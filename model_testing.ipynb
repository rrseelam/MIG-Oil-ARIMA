{
 "cells": [
  {
   "cell_type": "code",
   "execution_count": 1,
   "metadata": {},
   "outputs": [],
   "source": [
    "import pandas as pd\n",
    "import datetime as dt\n",
    "import matplotlib.pyplot as plt\n",
    "import numpy as np\n",
    "import yfinance as yf\n",
    "from os.path import exists\n",
    "import tensorflow as tf\n",
    "import sklearn as sk\n",
    "from sktime.datasets import load_airline\n",
    "from sktime.forecasting.arima import ARIMA"
   ]
  },
  {
   "cell_type": "code",
   "execution_count": 2,
   "metadata": {},
   "outputs": [],
   "source": [
    "def fit(data, orderin=(0, 3, 30),seasonal_orderin=(0, 0, 0, 0), future_points = 10 ):\n",
    "    forecaster = ARIMA(\n",
    "    order=orderin,\n",
    "    seasonal_order=seasonal_orderin,\n",
    "    suppress_warnings=True)\n",
    "\n",
    "    forecaster.fit(data)\n",
    "\n",
    "    prediction = forecaster.predict(fh = [i for i in range(future_points)])\n",
    "\n",
    "    return forecaster, prediction"
   ]
  },
  {
   "cell_type": "code",
   "execution_count": 3,
   "metadata": {},
   "outputs": [],
   "source": [
    "data = pd.read_csv('cl=f.csv')['Adj Close']"
   ]
  },
  {
   "cell_type": "code",
   "execution_count": 22,
   "metadata": {},
   "outputs": [],
   "source": [
    "f, p = fit(data[6:5593])"
   ]
  },
  {
   "cell_type": "code",
   "execution_count": 6,
   "metadata": {},
   "outputs": [
    {
     "data": {
      "text/plain": [
       "(5593,)"
      ]
     },
     "execution_count": 6,
     "metadata": {},
     "output_type": "execute_result"
    }
   ],
   "source": [
    "data.shape"
   ]
  },
  {
   "cell_type": "code",
   "execution_count": 7,
   "metadata": {},
   "outputs": [
    {
     "data": {
      "text/plain": [
       "0     32.049999\n",
       "1     31.629999\n",
       "2     32.049999\n",
       "3     32.869999\n",
       "4     32.720001\n",
       "        ...    \n",
       "95    29.500000\n",
       "96    29.500000\n",
       "97    30.049999\n",
       "98    30.350000\n",
       "99    29.650000\n",
       "Name: Adj Close, Length: 100, dtype: float64"
      ]
     },
     "execution_count": 7,
     "metadata": {},
     "output_type": "execute_result"
    }
   ],
   "source": [
    "data[0:100]"
   ]
  },
  {
   "cell_type": "code",
   "execution_count": 23,
   "metadata": {},
   "outputs": [
    {
     "data": {
      "text/plain": [
       "0    32.049999\n",
       "1    31.629999\n",
       "2    32.049999\n",
       "3    32.869999\n",
       "4    32.720001\n",
       "5    33.400002\n",
       "Name: Adj Close, dtype: float64"
      ]
     },
     "execution_count": 23,
     "metadata": {},
     "output_type": "execute_result"
    }
   ],
   "source": [
    "data.head(6)"
   ]
  },
  {
   "cell_type": "code",
   "execution_count": null,
   "metadata": {},
   "outputs": [],
   "source": []
  }
 ],
 "metadata": {
  "kernelspec": {
   "display_name": "Python 3.10.6 ('MIGenv')",
   "language": "python",
   "name": "python3"
  },
  "language_info": {
   "codemirror_mode": {
    "name": "ipython",
    "version": 3
   },
   "file_extension": ".py",
   "mimetype": "text/x-python",
   "name": "python",
   "nbconvert_exporter": "python",
   "pygments_lexer": "ipython3",
   "version": "3.10.6"
  },
  "orig_nbformat": 4,
  "vscode": {
   "interpreter": {
    "hash": "f4ae46714306f973d286f08d3de094ae051aaf4c3e8f7f318850ac22b9cbffbc"
   }
  }
 },
 "nbformat": 4,
 "nbformat_minor": 2
}
